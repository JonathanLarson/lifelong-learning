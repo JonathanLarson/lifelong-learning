{
 "cells": [
  {
   "cell_type": "code",
   "execution_count": 50,
   "metadata": {},
   "outputs": [],
   "source": [
    "from sklearn.ensemble.forest import _generate_unsampled_indices\n",
    "from sklearn.ensemble.forest import _generate_sample_indices\n",
    "from sklearn.ensemble import BaggingClassifier\n",
    "from sklearn.tree import DecisionTreeClassifier\n",
    "\n",
    "from tqdm import tqdm\n",
    "\n",
    "from itertools import permutations\n",
    "import sys\n",
    "\n",
    "import numpy as np\n",
    "np.warnings.filterwarnings('ignore')"
   ]
  },
  {
   "cell_type": "code",
   "execution_count": 56,
   "metadata": {},
   "outputs": [],
   "source": [
    "\"\"\"\n",
    "This file contains code for conditional entropy forests. \n",
    "Adapted from https://github.com/rguo123/conditional_entropy_forests/blob/master/code/algorithm.py\n",
    "\"\"\"\n",
    "\n",
    "def finite_sample_correction(class_probs, row_sums):\n",
    "    \n",
    "    where_0 = np.argwhere(class_probs == 0)\n",
    "    for elem in where_0:\n",
    "        class_probs[elem[0], elem[1]] = 1 / (2 * row_sums[elem[0], None])\n",
    "    where_1 = np.argwhere(class_probs == 1)\n",
    "    for elem in where_1:\n",
    "        class_probs[elem[0], elem[1]] = 1 - 1 / (2 * row_sums[elem[0], None])\n",
    "    \n",
    "    return class_probs\n",
    "\n",
    "def build_model(X, y, n_estimators=200, max_samples=.32,\n",
    "                                            bootstrap=True,\n",
    "                                            depth=30,\n",
    "                                            min_samples_leaf=1):\n",
    "    if X.ndim == 1:\n",
    "        raise ValueError('1d data will cause headaches down the road')\n",
    "        \n",
    "    max_features = int(np.ceil(np.sqrt(X.shape[1])))\n",
    "        \n",
    "    model=BaggingClassifier(DecisionTreeClassifier(max_depth=depth, min_samples_leaf=min_samples_leaf,\n",
    "                                                     max_features = max_features),\n",
    "                              n_estimators=n_estimators,\n",
    "                              max_samples=max_samples,\n",
    "                              bootstrap=bootstrap)\n",
    "    \n",
    "    model.fit(X, y)\n",
    "    return model\n",
    "\n",
    "def get_leaves(estimator):\n",
    "    # adapted from https://scikit-learn.org/stable/auto_examples/tree/plot_unveil_tree_structure.html\n",
    "    n_nodes = estimator.tree_.node_count\n",
    "    children_left = estimator.tree_.children_left\n",
    "    children_right = estimator.tree_.children_right\n",
    "    feature = estimator.tree_.feature\n",
    "    threshold = estimator.tree_.threshold\n",
    "    \n",
    "    leaf_ids = []\n",
    "    stack = [(0, -1)] \n",
    "    while len(stack) > 0:\n",
    "        node_id, parent_depth = stack.pop()\n",
    "\n",
    "        # If we have a test node\n",
    "        if (children_left[node_id] != children_right[node_id]):\n",
    "            stack.append((children_left[node_id], parent_depth + 1))\n",
    "            stack.append((children_right[node_id], parent_depth + 1))\n",
    "        else:\n",
    "            leaf_ids.append(node_id)\n",
    "            \n",
    "    return np.array(leaf_ids)\n",
    "\n",
    "def estimate_posteriors(model, train, y, test, in_task=True, acorn=None):\n",
    "    if acorn is None:\n",
    "        acorn = np.random.randint(10**6)\n",
    "    np.random.seed(acorn)\n",
    "    \n",
    "    n, d = train.shape\n",
    "    m, d_ = test.shape\n",
    "    \n",
    "    if d != d_:\n",
    "        raise ValueError(\"train and test data in different dimensions\")\n",
    "    \n",
    "    class_counts = np.zeros((m, model.n_classes_))\n",
    "    for tree in model:\n",
    "        # get out of bag indicies\n",
    "        if in_task:\n",
    "            prob_indices = _generate_unsampled_indices(tree.random_state, n)\n",
    "            # in_bag_idx = _generate_sample_indices(tree.random_state, n) # this is not behaving as i expected\n",
    "        else:\n",
    "            prob_indices = range(n)\n",
    "            in_bag_idx = range(n)\n",
    "        \n",
    "        leaf_nodes = get_leaves(tree)\n",
    "        unique_leaf_nodes = np.unique(leaf_nodes)\n",
    "            \n",
    "        # get all node counts\n",
    "        node_counts = tree.tree_.n_node_samples\n",
    "        # get probs for eval samples\n",
    "        posterior_class_counts = np.zeros((len(unique_leaf_nodes), model.n_classes_))\n",
    "\n",
    "        for prob_index in prob_indices:\n",
    "            temp_node = tree.apply(train[prob_index].reshape(1, -1)).item()\n",
    "            posterior_class_counts[np.where(unique_leaf_nodes == temp_node)[0][0], y[prob_index]] += 1\n",
    "            \n",
    "        # total number of points in a node\n",
    "        row_sums = posterior_class_counts.sum(axis=1)\n",
    "        \n",
    "        # no divide by zero\n",
    "        row_sums[row_sums == 0] = 1\n",
    "\n",
    "        # posteriors\n",
    "        class_probs = (posterior_class_counts / row_sums[:, None])\n",
    "        # posteriors with finite sampling correction\n",
    "        \n",
    "        class_probs = finite_sample_correction(class_probs, row_sums)\n",
    "    \n",
    "        # posteriors as a list\n",
    "        class_probs.tolist()\n",
    "        \n",
    "        partition_counts = np.asarray([node_counts[np.where(unique_leaf_nodes == x)[0][0]] for x in tree.apply(test)])\n",
    "        # get probability for out of bag samples\n",
    "        eval_class_probs = [class_probs[np.where(unique_leaf_nodes == x)[0][0]] for x in tree.apply(test)]\n",
    "        eval_class_probs = np.array(eval_class_probs)\n",
    "        # find total elements for out of bag samples\n",
    "        elems = np.multiply(eval_class_probs, partition_counts[:, np.newaxis])\n",
    "        # store counts for each x (repeat fhis for each tree)\n",
    "        class_counts += elems\n",
    "    # calculate p(y|X = x) for all x's\n",
    "    probs = class_counts / class_counts.sum(axis=1, keepdims=True)\n",
    "    \n",
    "    return probs\n",
    "\n",
    "def predict(a):\n",
    "    return np.argmax(a, axis = 1)\n",
    "\n",
    "def permutation(predict1, predict2):\n",
    "    \"\"\"\n",
    "    how to use:\n",
    "    \n",
    "    this function returns the permutation i.e. \\pi: [K] -> [K] that maximizes\n",
    "    the number of matched predictions\n",
    "    \n",
    "    to use the permutation for posteriors for point i (posterior_i), say, simply use\n",
    "    posterior_i[permutation]\n",
    "    \n",
    "    \"\"\"\n",
    "    unique_1 = np.unique(predict1)\n",
    "    unique_2 = np.unique(predict2)\n",
    "    \n",
    "    if set(unique_1) != set(unique_2):\n",
    "        raise ValueError(\"predictions must be on the same set of labels\")\n",
    "        \n",
    "    K = len(unique_1)\n",
    "    \n",
    "    max_sum = 0\n",
    "    max_perm = unique_2\n",
    "    for i, perm in enumerate(permutations(unique_2)):\n",
    "        perm = np.array(list(perm))\n",
    "        temp_predict2 = -1*np.ones(len(predict2))\n",
    "        \n",
    "        for k in range(K):\n",
    "            temp_predict2[np.where(predict2 == unique_2[k])[0]] = perm[k]\n",
    "           \n",
    "        temp_sum = np.sum(predict1 == temp_predict2)\n",
    "        if temp_sum > max_sum:\n",
    "            max_sum = temp_sum\n",
    "            max_perm = perm\n",
    "            \n",
    "    return max_perm\n",
    "            \n",
    "def estimate_alpha(predict1, predict2, permutation=None):\n",
    "    if permutation is None:\n",
    "        return np.sum(predict1 == predict2) / len(predict1)\n",
    "    else:\n",
    "        unique = np.unique(temp_predict2)\n",
    "        temp_predict2 = -1*np.ones(len(predict2))\n",
    "        \n",
    "        for i, k in enumerate(unique):\n",
    "            temp_predict2[predict2 == k] = permutation[i]\n",
    "            \n",
    "        return np.sum(predict1 == temp_predict2) / len(predict1)\n",
    "    \n",
    "def generate_sample(n, pi, conditional_0, params0, conditional_1, params1, d = 2, acorn=None):\n",
    "    if acorn is None:\n",
    "        acorn = np.random.seed(10**6)\n",
    "    np.random.seed(acorn)\n",
    "    \n",
    "    n0 = int(np.random.binomial(n, pi))\n",
    "    n1 = n - n0\n",
    "    ns = [n0, n1]\n",
    "    \n",
    "    X0 = conditional_0(*params0, size=(n0, d))\n",
    "    \n",
    "    X1 = conditional_1(*params1, size=(n1, d))\n",
    "    \n",
    "    labels = np.concatenate([i*np.ones(ns[i]) for i in range(len(ns))]).astype(int)\n",
    "    \n",
    "    return [np.concatenate((X0, X1), axis = 0), labels]\n",
    "\n",
    "def generate_parity(n, d=2, invert_labels=False,acorn=None):\n",
    "    if acorn is not None:\n",
    "        np.random.seed(acorn)\n",
    "        \n",
    "    X = np.random.uniform(-1, 1, size=(n, d))\n",
    "    Y = (np.sum(X > 0, axis=1) % 2 == 0).astype(int)\n",
    "    \n",
    "    if invert_labels:\n",
    "        Y = -1 * (Y - 1)\n",
    "    \n",
    "    return X, Y\n",
    "\n",
    "def parity_experiment(n, d, m, n_algos=4):\n",
    "    T = int(np.floor(np.sqrt(n)))\n",
    "    \n",
    "    errors = np.zeros(n_algos)\n",
    "    \n",
    "    temp_predictions = [[] for __ in range(n_algos)]\n",
    "\n",
    "    X, labelsX = generate_parity(n, d)\n",
    "    testX, test_labelsX = generate_parity(m, d)\n",
    "\n",
    "    Z, labelsZ = generate_parity(n, d, invert_labels=True)\n",
    "    testZ, test_labelsZ = generate_parity(m, d, invert_labels=True)\n",
    "\n",
    "    model_X = build_model(X, labelsX, T)\n",
    "    model_Z = build_model(Z, labelsZ, T)\n",
    "\n",
    "    posteriors_structX_estX=estimate_posteriors(model_X, X, labelsX, testX, in_task=True)\n",
    "    posteriors_structZ_estX=estimate_posteriors(model_Z, X, labelsX, testX, in_task=False)\n",
    "\n",
    "    pred_structX_estX=predict(posteriors_structX_estX)\n",
    "    pred_structZ_estX=predict(posteriors_structZ_estX)\n",
    "\n",
    "    posteriors_structX_estZ=estimate_posteriors(model_X, Z, labelsZ, testZ, in_task=False)\n",
    "    posteriors_structZ_estZ=estimate_posteriors(model_Z, Z, labelsZ, testZ, in_task=True)\n",
    "\n",
    "    # calculate errors without attempting to transfer knowledge\n",
    "    pred_X = predict(posteriors_structX_estX)\n",
    "    pred_Z = predict(posteriors_structZ_estZ)\n",
    "\n",
    "    errors[0] = 1 - np.sum(test_labelsX == pred_X)/m\n",
    "    errors[1] = 1 - np.sum(test_labelsZ == pred_Z)/m\n",
    "\n",
    "    # jtv ?\n",
    "    pred_X_jtv = predict(posteriors_structX_estX + posteriors_structZ_estX)\n",
    "    pred_Z_jtv = predict(posteriors_structZ_estZ + posteriors_structX_estZ)\n",
    "\n",
    "    errors[2] = 1 - np.sum(test_labelsX == pred_X_jtv)/m\n",
    "    errors[3] = 1 - np.sum(test_labelsZ == pred_Z_jtv)/m\n",
    "\n",
    "    return errors"
   ]
  },
  {
   "cell_type": "code",
   "execution_count": 55,
   "metadata": {},
   "outputs": [
    {
     "name": "stderr",
     "output_type": "stream",
     "text": [
      "(100, 2) (100, 2)\n",
      "(100, 2) (100, 2)\n",
      "(100, 2) (100, 2)\n",
      "(100, 2) (100, 2)\n",
      "(100, 2) (100, 2)\n",
      "(100, 2) (100, 2)\n",
      "(100, 2) (100, 2)\n",
      "(100, 2) (100, 2)\n",
      "(100, 2) (100, 2)\n",
      "(100, 2) (100, 2)\n"
     ]
    }
   ],
   "source": [
    "condensed_func = lambda x : parity_experiment(x, 2, 100)\n",
    "for i in range(10):\n",
    "    condensed_func(100)"
   ]
  },
  {
   "cell_type": "code",
   "execution_count": 47,
   "metadata": {},
   "outputs": [
    {
     "ename": "TypeError",
     "evalue": "parity_experiment() missing 1 required positional argument: 'm'",
     "output_type": "error",
     "traceback": [
      "\u001b[0;31m---------------------------------------------------------------------------\u001b[0m",
      "\u001b[0;31mTypeError\u001b[0m                                 Traceback (most recent call last)",
      "\u001b[0;32m<ipython-input-47-b99e4b2c6376>\u001b[0m in \u001b[0;36m<module>\u001b[0;34m\u001b[0m\n\u001b[1;32m      1\u001b[0m \u001b[0mtests\u001b[0m \u001b[0;34m=\u001b[0m \u001b[0;34m[\u001b[0m\u001b[0;34m]\u001b[0m\u001b[0;34m\u001b[0m\u001b[0;34m\u001b[0m\u001b[0m\n\u001b[1;32m      2\u001b[0m \u001b[0;32mfor\u001b[0m \u001b[0m_\u001b[0m \u001b[0;32min\u001b[0m \u001b[0mrange\u001b[0m\u001b[0;34m(\u001b[0m\u001b[0;36m10\u001b[0m\u001b[0;34m)\u001b[0m\u001b[0;34m:\u001b[0m\u001b[0;34m\u001b[0m\u001b[0;34m\u001b[0m\u001b[0m\n\u001b[0;32m----> 3\u001b[0;31m     \u001b[0mtemp\u001b[0m \u001b[0;34m=\u001b[0m \u001b[0mparity_experiment\u001b[0m\u001b[0;34m(\u001b[0m\u001b[0;36m10\u001b[0m\u001b[0;34m,\u001b[0m \u001b[0;36m2\u001b[0m\u001b[0;34m)\u001b[0m\u001b[0;34m\u001b[0m\u001b[0;34m\u001b[0m\u001b[0m\n\u001b[0m\u001b[1;32m      4\u001b[0m     \u001b[0mprint\u001b[0m\u001b[0;34m(\u001b[0m\u001b[0mtemp\u001b[0m\u001b[0;34m)\u001b[0m\u001b[0;34m\u001b[0m\u001b[0;34m\u001b[0m\u001b[0m\n\u001b[1;32m      5\u001b[0m     \u001b[0mtests\u001b[0m\u001b[0;34m.\u001b[0m\u001b[0mappend\u001b[0m\u001b[0;34m(\u001b[0m\u001b[0mtemp\u001b[0m\u001b[0;34m)\u001b[0m\u001b[0;34m\u001b[0m\u001b[0;34m\u001b[0m\u001b[0m\n",
      "\u001b[0;31mTypeError\u001b[0m: parity_experiment() missing 1 required positional argument: 'm'"
     ]
    }
   ],
   "source": [
    "tests = []\n",
    "for _ in range(10):\n",
    "    temp = parity_experiment(10, 2)\n",
    "    print(temp)\n",
    "    tests.append(temp)"
   ]
  },
  {
   "cell_type": "code",
   "execution_count": 27,
   "metadata": {},
   "outputs": [
    {
     "data": {
      "text/plain": [
       "array([0.486, 0.523, 0.487, 0.548])"
      ]
     },
     "execution_count": 27,
     "metadata": {},
     "output_type": "execute_result"
    }
   ],
   "source": [
    "np.mean(tests, axis=0)"
   ]
  },
  {
   "cell_type": "code",
   "execution_count": 49,
   "metadata": {},
   "outputs": [
    {
     "name": "stderr",
     "output_type": "stream",
     "text": [
      "\n",
      "  0%|          | 0/4 [00:00<?, ?it/s]\u001b[A"
     ]
    },
    {
     "name": "stdout",
     "output_type": "stream",
     "text": [
      "(100, 5)\n",
      "(100, 5)\n",
      "(100, 5)\n",
      "(100, 5)\n",
      "(100, 5)\n",
      "(100, 5)\n"
     ]
    },
    {
     "ename": "KeyboardInterrupt",
     "evalue": "",
     "output_type": "error",
     "traceback": [
      "\u001b[0;31m---------------------------------------------------------------------------\u001b[0m",
      "\u001b[0;31mKeyboardInterrupt\u001b[0m                         Traceback (most recent call last)",
      "\u001b[0;32m<ipython-input-49-2d784cc16609>\u001b[0m in \u001b[0;36m<module>\u001b[0;34m\u001b[0m\n\u001b[1;32m     39\u001b[0m         \u001b[0mmodel_Z\u001b[0m \u001b[0;34m=\u001b[0m \u001b[0mbuild_model\u001b[0m\u001b[0;34m(\u001b[0m\u001b[0mZ\u001b[0m\u001b[0;34m,\u001b[0m \u001b[0mlabelsZ\u001b[0m\u001b[0;34m)\u001b[0m\u001b[0;34m\u001b[0m\u001b[0;34m\u001b[0m\u001b[0m\n\u001b[1;32m     40\u001b[0m \u001b[0;34m\u001b[0m\u001b[0m\n\u001b[0;32m---> 41\u001b[0;31m         \u001b[0mposteriors_structX_estX\u001b[0m\u001b[0;34m=\u001b[0m\u001b[0mestimate_posteriors\u001b[0m\u001b[0;34m(\u001b[0m\u001b[0mmodel_X\u001b[0m\u001b[0;34m,\u001b[0m \u001b[0mX\u001b[0m\u001b[0;34m,\u001b[0m \u001b[0mlabelsX\u001b[0m\u001b[0;34m,\u001b[0m \u001b[0mtestX\u001b[0m\u001b[0;34m,\u001b[0m \u001b[0min_task\u001b[0m\u001b[0;34m=\u001b[0m\u001b[0;32mTrue\u001b[0m\u001b[0;34m)\u001b[0m\u001b[0;34m\u001b[0m\u001b[0;34m\u001b[0m\u001b[0m\n\u001b[0m\u001b[1;32m     42\u001b[0m         \u001b[0mposteriors_structZ_estX\u001b[0m\u001b[0;34m=\u001b[0m\u001b[0mestimate_posteriors\u001b[0m\u001b[0;34m(\u001b[0m\u001b[0mmodel_Z\u001b[0m\u001b[0;34m,\u001b[0m \u001b[0mX\u001b[0m\u001b[0;34m,\u001b[0m \u001b[0mlabelsX\u001b[0m\u001b[0;34m,\u001b[0m \u001b[0mtestX\u001b[0m\u001b[0;34m,\u001b[0m \u001b[0min_task\u001b[0m\u001b[0;34m=\u001b[0m\u001b[0;32mFalse\u001b[0m\u001b[0;34m)\u001b[0m\u001b[0;34m\u001b[0m\u001b[0;34m\u001b[0m\u001b[0m\n\u001b[1;32m     43\u001b[0m \u001b[0;34m\u001b[0m\u001b[0m\n",
      "\u001b[0;32m<ipython-input-46-850038a7ce2e>\u001b[0m in \u001b[0;36mestimate_posteriors\u001b[0;34m(model, train, y, test, in_task, acorn)\u001b[0m\n\u001b[1;32m     89\u001b[0m \u001b[0;34m\u001b[0m\u001b[0m\n\u001b[1;32m     90\u001b[0m         \u001b[0;32mfor\u001b[0m \u001b[0mprob_index\u001b[0m \u001b[0;32min\u001b[0m \u001b[0mprob_indices\u001b[0m\u001b[0;34m:\u001b[0m\u001b[0;34m\u001b[0m\u001b[0;34m\u001b[0m\u001b[0m\n\u001b[0;32m---> 91\u001b[0;31m             \u001b[0mtemp_node\u001b[0m \u001b[0;34m=\u001b[0m \u001b[0mtree\u001b[0m\u001b[0;34m.\u001b[0m\u001b[0mapply\u001b[0m\u001b[0;34m(\u001b[0m\u001b[0mtrain\u001b[0m\u001b[0;34m[\u001b[0m\u001b[0mprob_index\u001b[0m\u001b[0;34m]\u001b[0m\u001b[0;34m.\u001b[0m\u001b[0mreshape\u001b[0m\u001b[0;34m(\u001b[0m\u001b[0;36m1\u001b[0m\u001b[0;34m,\u001b[0m \u001b[0;34m-\u001b[0m\u001b[0;36m1\u001b[0m\u001b[0;34m)\u001b[0m\u001b[0;34m)\u001b[0m\u001b[0;34m.\u001b[0m\u001b[0mitem\u001b[0m\u001b[0;34m(\u001b[0m\u001b[0;34m)\u001b[0m\u001b[0;34m\u001b[0m\u001b[0;34m\u001b[0m\u001b[0m\n\u001b[0m\u001b[1;32m     92\u001b[0m             \u001b[0mposterior_class_counts\u001b[0m\u001b[0;34m[\u001b[0m\u001b[0mnp\u001b[0m\u001b[0;34m.\u001b[0m\u001b[0mwhere\u001b[0m\u001b[0;34m(\u001b[0m\u001b[0munique_leaf_nodes\u001b[0m \u001b[0;34m==\u001b[0m \u001b[0mtemp_node\u001b[0m\u001b[0;34m)\u001b[0m\u001b[0;34m[\u001b[0m\u001b[0;36m0\u001b[0m\u001b[0;34m]\u001b[0m\u001b[0;34m[\u001b[0m\u001b[0;36m0\u001b[0m\u001b[0;34m]\u001b[0m\u001b[0;34m,\u001b[0m \u001b[0my\u001b[0m\u001b[0;34m[\u001b[0m\u001b[0mprob_index\u001b[0m\u001b[0;34m]\u001b[0m\u001b[0;34m]\u001b[0m \u001b[0;34m+=\u001b[0m \u001b[0;36m1\u001b[0m\u001b[0;34m\u001b[0m\u001b[0;34m\u001b[0m\u001b[0m\n\u001b[1;32m     93\u001b[0m \u001b[0;34m\u001b[0m\u001b[0m\n",
      "\u001b[0;32m~/.local/lib/python3.6/site-packages/sklearn/tree/tree.py\u001b[0m in \u001b[0;36mapply\u001b[0;34m(self, X, check_input)\u001b[0m\n\u001b[1;32m    481\u001b[0m             \u001b[0mnumbering\u001b[0m\u001b[0;34m.\u001b[0m\u001b[0;34m\u001b[0m\u001b[0;34m\u001b[0m\u001b[0m\n\u001b[1;32m    482\u001b[0m         \"\"\"\n\u001b[0;32m--> 483\u001b[0;31m         \u001b[0mcheck_is_fitted\u001b[0m\u001b[0;34m(\u001b[0m\u001b[0mself\u001b[0m\u001b[0;34m,\u001b[0m \u001b[0;34m'tree_'\u001b[0m\u001b[0;34m)\u001b[0m\u001b[0;34m\u001b[0m\u001b[0;34m\u001b[0m\u001b[0m\n\u001b[0m\u001b[1;32m    484\u001b[0m         \u001b[0mX\u001b[0m \u001b[0;34m=\u001b[0m \u001b[0mself\u001b[0m\u001b[0;34m.\u001b[0m\u001b[0m_validate_X_predict\u001b[0m\u001b[0;34m(\u001b[0m\u001b[0mX\u001b[0m\u001b[0;34m,\u001b[0m \u001b[0mcheck_input\u001b[0m\u001b[0;34m)\u001b[0m\u001b[0;34m\u001b[0m\u001b[0;34m\u001b[0m\u001b[0m\n\u001b[1;32m    485\u001b[0m         \u001b[0;32mreturn\u001b[0m \u001b[0mself\u001b[0m\u001b[0;34m.\u001b[0m\u001b[0mtree_\u001b[0m\u001b[0;34m.\u001b[0m\u001b[0mapply\u001b[0m\u001b[0;34m(\u001b[0m\u001b[0mX\u001b[0m\u001b[0;34m)\u001b[0m\u001b[0;34m\u001b[0m\u001b[0;34m\u001b[0m\u001b[0m\n",
      "\u001b[0;32m~/.local/lib/python3.6/site-packages/sklearn/utils/validation.py\u001b[0m in \u001b[0;36mcheck_is_fitted\u001b[0;34m(estimator, attributes, msg, all_or_any)\u001b[0m\n\u001b[1;32m    911\u001b[0m         \u001b[0mattributes\u001b[0m \u001b[0;34m=\u001b[0m \u001b[0;34m[\u001b[0m\u001b[0mattributes\u001b[0m\u001b[0;34m]\u001b[0m\u001b[0;34m\u001b[0m\u001b[0;34m\u001b[0m\u001b[0m\n\u001b[1;32m    912\u001b[0m \u001b[0;34m\u001b[0m\u001b[0m\n\u001b[0;32m--> 913\u001b[0;31m     \u001b[0;32mif\u001b[0m \u001b[0;32mnot\u001b[0m \u001b[0mall_or_any\u001b[0m\u001b[0;34m(\u001b[0m\u001b[0;34m[\u001b[0m\u001b[0mhasattr\u001b[0m\u001b[0;34m(\u001b[0m\u001b[0mestimator\u001b[0m\u001b[0;34m,\u001b[0m \u001b[0mattr\u001b[0m\u001b[0;34m)\u001b[0m \u001b[0;32mfor\u001b[0m \u001b[0mattr\u001b[0m \u001b[0;32min\u001b[0m \u001b[0mattributes\u001b[0m\u001b[0;34m]\u001b[0m\u001b[0;34m)\u001b[0m\u001b[0;34m:\u001b[0m\u001b[0;34m\u001b[0m\u001b[0;34m\u001b[0m\u001b[0m\n\u001b[0m\u001b[1;32m    914\u001b[0m         \u001b[0;32mraise\u001b[0m \u001b[0mNotFittedError\u001b[0m\u001b[0;34m(\u001b[0m\u001b[0mmsg\u001b[0m \u001b[0;34m%\u001b[0m \u001b[0;34m{\u001b[0m\u001b[0;34m'name'\u001b[0m\u001b[0;34m:\u001b[0m \u001b[0mtype\u001b[0m\u001b[0;34m(\u001b[0m\u001b[0mestimator\u001b[0m\u001b[0;34m)\u001b[0m\u001b[0;34m.\u001b[0m\u001b[0m__name__\u001b[0m\u001b[0;34m}\u001b[0m\u001b[0;34m)\u001b[0m\u001b[0;34m\u001b[0m\u001b[0;34m\u001b[0m\u001b[0m\n\u001b[1;32m    915\u001b[0m \u001b[0;34m\u001b[0m\u001b[0m\n",
      "\u001b[0;31mKeyboardInterrupt\u001b[0m: "
     ]
    }
   ],
   "source": [
    "np.random.seed(1)\n",
    "from joblib import Parallel, delayed\n",
    "\n",
    "mc_its = 50 # number of simulation repititions\n",
    "# ns0 = (10*np.arange(3,5,step=1)).astype(int)\n",
    "ns1 = (100*np.arange(1, 3, step=0.5)).astype(int) # number of training samples \n",
    "# ns = np.concatenate((ns0, ns1))\n",
    "ns = ns1\n",
    "nz_prop = 1\n",
    "\n",
    "m = 100 # number of test samples each monte carlo iteration\n",
    "\n",
    "pi = 0.5\n",
    "\n",
    "algorithms = ['task1', 'task2', 'task1 jtv', 'task2 jtv']\n",
    "# algorithms = np.concatenate((algorithms, ['task1 cep local', 'task2 cep local', 'task1 jtv', 'task2 jtv']))\n",
    "M = len(algorithms)\n",
    "\n",
    "mean_error = np.zeros((len(algorithms), len(ns)))\n",
    "std_error = np.zeros((len(algorithms), len(ns)))\n",
    "\n",
    "d = 5\n",
    "for j, n in enumerate(tqdm(ns)):\n",
    "    errors = np.zeros((M, mc_its))\n",
    "    \n",
    "    k = int(np.floor(np.log(n)))\n",
    "    T = int(np.floor(np.sqrt(n)))\n",
    "    \n",
    "    for i in range(mc_its):\n",
    "        temp_predictions = [[] for __ in algorithms]\n",
    "        \n",
    "        X, labelsX = generate_parity(n, d)\n",
    "        testX, test_labelsX = generate_parity(m, d)\n",
    "        \n",
    "        Z, labelsZ = generate_parity(n, d, invert_labels=True)\n",
    "        testZ, test_labelsZ = generate_parity(m, d, invert_labels=True)\n",
    "        \n",
    "        model_X = build_model(X, labelsX)\n",
    "        model_Z = build_model(Z, labelsZ)\n",
    "        \n",
    "        posteriors_structX_estX=estimate_posteriors(model_X, X, labelsX, testX, in_task=True)\n",
    "        posteriors_structZ_estX=estimate_posteriors(model_Z, X, labelsX, testX, in_task=False)\n",
    "        \n",
    "        pred_structX_estX=predict(posteriors_structX_estX)\n",
    "        pred_structZ_estX=predict(posteriors_structZ_estX)\n",
    "        \n",
    "        posteriors_structX_estZ=estimate_posteriors(model_X, Z, labelsZ, testZ, in_task=False)\n",
    "        posteriors_structZ_estZ=estimate_posteriors(model_Z, Z, labelsZ, testZ, in_task=True)\n",
    "        \n",
    "        # calculate errors without attempting to transfer knowledge\n",
    "        pred_X = predict(posteriors_structX_estX)\n",
    "        pred_Z = predict(posteriors_structZ_estZ)\n",
    "        \n",
    "        errors[0, i] = 1 - np.sum(test_labelsX == pred_X)/m\n",
    "        errors[1, i] = 1 - np.sum(test_labelsZ == pred_Z)/m\n",
    "        \n",
    "        # jtv ?\n",
    "        pred_X_jtv = predict(posteriors_structX_estX + posteriors_structZ_estX)\n",
    "        pred_Z_jtv = predict(posteriors_structZ_estZ + posteriors_structX_estZ)\n",
    "        \n",
    "        errors[2, i] = 1 - np.sum(test_labelsX == pred_X_jtv)/m\n",
    "        errors[3, i] = 1 - np.sum(test_labelsZ == pred_Z_jtv)/m\n",
    "    \n",
    "    mean_error[:, j] = np.mean(errors, axis=1)\n",
    "    std_error[:, j] = np.std(errors, ddof=1, axis=1)"
   ]
  },
  {
   "cell_type": "code",
   "execution_count": 43,
   "metadata": {
    "collapsed": true
   },
   "outputs": [
    {
     "data": {
      "text/plain": [
       "Text(0.5, 1.0, 'parity and not parity, d=5')"
      ]
     },
     "execution_count": 43,
     "metadata": {},
     "output_type": "execute_result"
    },
    {
     "data": {
      "image/png": "[encoded data removed]",
      "text/plain": [
       "<Figure size 432x288 with 1 Axes>"
      ]
     },
     "metadata": {},
     "output_type": "display_data"
    }
   ],
   "source": [
    "import matplotlib.pyplot as plt\n",
    "import seaborn as sns\n",
    "sns.set()\n",
    "\n",
    "algo_offset = 0\n",
    "\n",
    "fig, ax = plt.subplots(1,1)\n",
    "for i, algo in enumerate(algorithms[algo_offset:]):\n",
    "    ax.plot(ns, mean_error[i + algo_offset], label=algo)\n",
    "ax.legend()\n",
    "ax.set_xlabel('n')\n",
    "ax.set_ylabel('L_hat')\n",
    "\n",
    "ax.set_title('parity and not parity, d=%i'%(d))"
   ]
  },
  {
   "cell_type": "code",
   "execution_count": 23,
   "metadata": {},
   "outputs": [
    {
     "data": {
      "text/plain": [
       "(200, 2)"
      ]
     },
     "execution_count": 23,
     "metadata": {},
     "output_type": "execute_result"
    }
   ],
   "source": [
    "X.shape"
   ]
  },
  {
   "cell_type": "code",
   "execution_count": 75,
   "metadata": {},
   "outputs": [
    {
     "data": {
      "application/vnd.jupyter.widget-view+json": {
       "model_id": "e674adbd3e5c4fbbb9accfa5c941c850",
       "version_major": 2,
       "version_minor": 0
      },
      "text/plain": [
       "HBox(children=(IntProgress(value=0, max=18), HTML(value='')))"
      ]
     },
     "metadata": {},
     "output_type": "display_data"
    }
   ],
   "source": [
    "from tqdm import tqdm_notebook as tqdm\n",
    "np.random.seed(1)\n",
    "from joblib import Parallel, delayed\n",
    "\n",
    "mc_its = 200 # number of simulation repititions\n",
    "# ns0 = (10*np.arange(3,5,step=1)).astype(int)\n",
    "ns1 = (100*np.arange(1, 10, step=0.5)).astype(int) # number of training samples \n",
    "# ns = np.concatenate((ns0, ns1))\n",
    "ns = ns1\n",
    "nz_prop = 1\n",
    "\n",
    "m = 100 # number of test samples each monte carlo iteration\n",
    "\n",
    "algorithms = ['task1', 'task2', 'task1 jtv', 'task2 jtv']\n",
    "# algorithms = np.concatenate((algorithms, ['task1 cep local', 'task2 cep local', 'task1 jtv', 'task2 jtv']))\n",
    "M = len(algorithms)\n",
    "\n",
    "mean_error = np.zeros((M, len(ns)))\n",
    "std_error = np.zeros((M, len(ns)))\n",
    "\n",
    "d = 2\n",
    "for j, n in enumerate(tqdm(ns)):\n",
    "    condensed_func = lambda x : parity_experiment(x, d, m)\n",
    "    \n",
    "    errors = np.array(Parallel(n_jobs=-2)(delayed(condensed_func)(int(x)) for x in n*np.ones(mc_it)))\n",
    "    \n",
    "    mean_error[:, j] = np.mean(errors, axis=0)\n",
    "    std_error[:, j] = np.std(errors, ddof=1, axis=0)"
   ]
  },
  {
   "cell_type": "code",
   "execution_count": 86,
   "metadata": {},
   "outputs": [
    {
     "data": {
      "text/plain": [
       "Text(0.5, 1.0, 'parity and not parity, d=2')"
      ]
     },
     "execution_count": 86,
     "metadata": {},
     "output_type": "execute_result"
    },
    {
     "data": {
      "image/png": "[encoded data removed]",
      "text/plain": [
       "<Figure size 432x288 with 1 Axes>"
      ]
     },
     "metadata": {},
     "output_type": "display_data"
    }
   ],
   "source": [
    "import matplotlib.pyplot as plt\n",
    "import seaborn as sns\n",
    "sns.set()\n",
    "\n",
    "algo_offset = 0\n",
    "\n",
    "sns.set()\n",
    "colors = sns.color_palette(\"Set1\", n_colors = M)\n",
    "fig, ax = plt.subplots(1,1)\n",
    "for i, algo in enumerate(algorithms[algo_offset:2]):\n",
    "    ax.plot(ns, mean_error[i + algo_offset], label=algo)\n",
    "    ax.fill_between(ns, \n",
    "            mean_error[i] + 1.96*std_error[i]/np.sqrt(mc_it), \n",
    "            mean_error[i] - 1.96*std_error[i]/np.sqrt(mc_it), \n",
    "            where=mean_error[i] + 1.96*std_error[i]/np.sqrt(mc_it) >= mean_error[i] - 1.96*std_error[i]/np.sqrt(mc_it), \n",
    "            facecolor=colors[i], \n",
    "            alpha=0.15,\n",
    "            interpolate=True)\n",
    "    \n",
    "algo_offset=2\n",
    "for i, algo in enumerate(algorithms[algo_offset:]):\n",
    "    ax.plot(2*ns, mean_error[i + algo_offset], label=algo)\n",
    "    ax.fill_between(2*ns, \n",
    "            mean_error[i + algo_offset] + 1.96*std_error[i + algo_offset]/np.sqrt(mc_it), \n",
    "            mean_error[i + algo_offset] - 1.96*std_error[i + algo_offset]/np.sqrt(mc_it), \n",
    "            where=mean_error[i + algo_offset] + 1.96*std_error[i + algo_offset]/np.sqrt(mc_it) >= mean_error[i + algo_offset] - 1.96*std_error[i + algo_offset]/np.sqrt(mc_it), \n",
    "            facecolor=colors[i + algo_offset], \n",
    "            alpha=0.15,\n",
    "            interpolate=True)\n",
    "ax.legend()\n",
    "ax.set_xlabel('n')\n",
    "ax.set_ylabel('L_hat')\n",
    "\n",
    "ax.set_title('parity and not parity, d=%i'%(d))\n",
    "plt.savefig('parity_not_parity_2d.png')"
   ]
  },
  {
   "cell_type": "code",
   "execution_count": null,
   "metadata": {},
   "outputs": [],
   "source": []
  },
  {
   "cell_type": "code",
   "execution_count": null,
   "metadata": {},
   "outputs": [],
   "source": [
    "# cep global\n",
    "pred_structX_estZ=predict(posteriors_structX_estZ)\n",
    "pred_structZ_estZ=predict(posteriors_structZ_estZ)\n",
    "\n",
    "optimal_permutation_X = permutation(pred_structX_estX, pred_structZ_estX)\n",
    "optimal_permutation_Z = permutation(pred_structZ_estZ, pred_structX_estZ)\n",
    "\n",
    "new_posteriors_structX_estZ = np.zeros(posteriors_structX_estZ.shape)\n",
    "new_posteriors_structZ_estX = np.zeros(posteriors_structZ_estX.shape)\n",
    "for k in range(m):\n",
    "    new_posteriors_structX_estZ[k] = posteriors_structX_estZ[k][optimal_permutation_X]\n",
    "    new_posteriors_structZ_estX[k] = posteriors_structZ_estX[k][optimal_permutation_Z]\n",
    "\n",
    "pred_structX_estZ = predict(posteriors_structX_estZ)\n",
    "pred_structZ_estX = predict(posteriors_structZ_estX)\n",
    "\n",
    "alpha_X = estimate_alpha(pred_structX_estX, pred_structZ_estX)\n",
    "alpha_Z = estimate_alpha(pred_structZ_estZ, pred_structX_estZ)\n",
    "\n",
    "pred_X_cep_global = predict(posteriors_structX_estX + alpha_X * new_posteriors_structZ_estX)\n",
    "pred_Z_cep_global = predict(posteriors_structZ_estZ + alpha_Z * new_posteriors_structX_estZ)\n",
    "\n",
    "errors[4, i] = 1 - np.sum(test_labelsX == pred_X_cep_global)/m\n",
    "errors[5, i] = 1 - np.sum(test_labelsZ == pred_Z_cep_global)/m"
   ]
  }
 ],
 "metadata": {
  "kernelspec": {
   "display_name": "Python 3",
   "language": "python",
   "name": "python3"
  },
  "language_info": {
   "codemirror_mode": {
    "name": "ipython",
    "version": 3
   },
   "file_extension": ".py",
   "mimetype": "text/x-python",
   "name": "python",
   "nbconvert_exporter": "python",
   "pygments_lexer": "ipython3",
   "version": "3.6.8"
  }
 },
 "nbformat": 4,
 "nbformat_minor": 2
}
