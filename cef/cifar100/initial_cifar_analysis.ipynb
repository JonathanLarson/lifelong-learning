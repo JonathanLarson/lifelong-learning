{
 "cells": [
  {
   "cell_type": "code",
   "execution_count": 1,
   "metadata": {},
   "outputs": [],
   "source": [
    "from lifelong_forests import *"
   ]
  },
  {
   "cell_type": "code",
   "execution_count": 2,
   "metadata": {},
   "outputs": [],
   "source": [
    "import pickle\n",
    "def unpickle(file):\n",
    "    with open(file, 'rb') as fo:\n",
    "        dict = pickle.load(fo, encoding='bytes')\n",
    "    return dict\n",
    "\n",
    "def homogenize_labels(a):\n",
    "    u = np.unique(a)\n",
    "    return np.array([np.where(u == i)[0][0] for i in a])"
   ]
  },
  {
   "cell_type": "code",
   "execution_count": 6,
   "metadata": {},
   "outputs": [],
   "source": [
    "train_file = 'cifar-100-python/train'\n",
    "unpickled_train = unpickle(train_file)\n",
    "train_keys = list(unpickled_train.keys())\n",
    "fine_labels = np.array(unpickled_train[train_keys[2]])\n",
    "\n",
    "train_data = unpickled_train[list(train_keys)[-1]]\n",
    "class_idx = [np.where(fine_labels == u)[0] for u in np.unique(fine_labels)]\n",
    "\n",
    "n_tasks = 10 # should divide 100 evenly\n",
    "K = int(len(class_idx)/n_tasks)\n",
    "\n",
    "train_by_task = [np.concatenate(class_idx[i*n_tasks: (i+1)*n_tasks]) for i in range(n_tasks)]\n",
    "\n",
    "n_trees = int(np.sqrt(len(class_idx[0])))\n",
    "\n",
    "test_file = 'cifar-100-python/test'\n",
    "unpickled_test = unpickle(test_file)\n",
    "test_keys = list(unpickled_test.keys())\n",
    "test_labels = np.array(unpickled_test[test_keys[2]])\n",
    "\n",
    "test_data = unpickled_test[test_keys[-1]]\n",
    "test_class_idx = [np.where(test_labels == u)[0] for u in np.unique(test_labels)]\n",
    "test_by_task = [np.concatenate(test_class_idx[i*n_tasks: (i+1)*n_tasks]) for i in range(n_tasks)]"
   ]
  },
  {
   "cell_type": "code",
   "execution_count": 7,
   "metadata": {},
   "outputs": [],
   "source": [
    "models = []\n",
    "\n",
    "for i, u in enumerate(range(n_tasks)):\n",
    "    X = train_data[np.concatenate(class_idx[i*n_tasks: (i+1)*n_tasks])]\n",
    "    labels = np.concatenate([n_tasks*i*np.ones(500) + j for j in range(n_tasks*i, n_tasks*(i+1))])\n",
    "    model = build_model(X, labels, n_trees)\n",
    "    models.append(model)"
   ]
  },
  {
   "cell_type": "code",
   "execution_count": 8,
   "metadata": {},
   "outputs": [],
   "source": [
    "# qa_check = np.zeros((n_tasks, 1000, K))\n",
    "# i = 0\n",
    "# X = train_data[np.concatenate(class_idx[i*n_tasks: (i+1)*n_tasks])]\n",
    "# labels = np.concatenate([i*n_tasks*np.ones(500) + j for j in range(n_tasks*i, n_tasks*(i+1))])\n",
    "\n",
    "# for i in range(qa_check.shape[0]):\n",
    "#     if i == 0:\n",
    "#         qa_check[i] = estimate_posteriors(models[i], X, labels, test_data[test_by_task[0]], in_task=True, subsample=0.32)\n",
    "#     else:\n",
    "#         qa_check[i] = estimate_posteriors(models[i], X, labels, test_data[test_by_task[0]], in_task=False, subsample=0.32)\n",
    "\n",
    "# qa_avg = np.mean(qa_check, axis = 0)\n",
    "# print(qa_avg.shape)\n",
    "# print(np.sum(predict(qa_avg) == test_labels[test_by_task[0]]) / len(test_by_task[0]))"
   ]
  },
  {
   "cell_type": "code",
   "execution_count": 9,
   "metadata": {},
   "outputs": [],
   "source": [
    "from sklearn.ensemble.forest import _generate_unsampled_indices\n",
    "from sklearn.ensemble.forest import _generate_sample_indices\n",
    "\n",
    "def estimate_posteriors(model, train, y, test, in_task=True, subsample=1, acorn=None):\n",
    "    if acorn is None:\n",
    "        acorn = np.random.randint(10**6)\n",
    "    np.random.seed(acorn)\n",
    "\n",
    "    n, d = train.shape\n",
    "    m, d_ = test.shape\n",
    "\n",
    "    if d != d_:\n",
    "        raise ValueError(\"train and test data in different dimensions\")\n",
    "\n",
    "    class_counts = np.zeros((m, model.n_classes_))\n",
    "    unique_labels = np.unique(y)\n",
    "    def _map(u, x):\n",
    "        return np.where(u == x)[0][0]\n",
    "    \n",
    "    for tree in model:\n",
    "        # get out of bag indicies\n",
    "        if in_task:\n",
    "            prob_indices = _generate_unsampled_indices(tree.random_state, n)\n",
    "        else:\n",
    "            prob_indices = np.random.choice(range(n), size=int(subsample*n), replace=False)\n",
    "        \n",
    "        leaf_nodes = get_leaves(tree)\n",
    "        unique_leaf_nodes = np.unique(leaf_nodes)\n",
    "            \n",
    "        # get all node counts\n",
    "        node_counts = tree.tree_.n_node_samples\n",
    "        # get probs for eval samples\n",
    "        posterior_class_counts = np.zeros((len(unique_leaf_nodes), model.n_classes_))\n",
    "\n",
    "        for prob_index in prob_indices:\n",
    "            temp_node = tree.apply(train[prob_index].reshape(1, -1)).item()\n",
    "            posterior_class_counts[np.where(unique_leaf_nodes == temp_node)[0][0], _map(unique_labels, y[prob_index])] += 1\n",
    "            \n",
    "        # total number of points in a node\n",
    "        row_sums = posterior_class_counts.sum(axis=1)\n",
    "        \n",
    "        # no divide by zero\n",
    "        row_sums[row_sums == 0] = 1\n",
    "\n",
    "        # posteriors\n",
    "        class_probs = (posterior_class_counts / row_sums[:, None])\n",
    "        # posteriors with finite sampling correction\n",
    "        \n",
    "        class_probs = finite_sample_correction(class_probs, row_sums)\n",
    "\n",
    "        # posteriors as a list\n",
    "        class_probs.tolist()\n",
    "  \n",
    "        partition_counts = np.asarray([node_counts[np.where(unique_leaf_nodes == x)[0][0]] for x in tree.apply(test)])\n",
    "        # get probability for out of bag samples\n",
    "        eval_class_probs = [class_probs[np.where(unique_leaf_nodes == x)[0][0]] for x in tree.apply(test)]\n",
    "        eval_class_probs = np.array(eval_class_probs)\n",
    "        # find total elements for out of bag samples\n",
    "        elems = np.multiply(eval_class_probs, partition_counts[:, np.newaxis])\n",
    "        # store counts for each x (repeat fhis for each tree)\n",
    "        class_counts += elems\n",
    "    # calculate p(y|X = x) for all x's\n",
    "    probs = class_counts / class_counts.sum(axis=1, keepdims=True)\n",
    "\n",
    "    return probs"
   ]
  },
  {
   "cell_type": "code",
   "execution_count": 10,
   "metadata": {
    "scrolled": true
   },
   "outputs": [
    {
     "name": "stdout",
     "output_type": "stream",
     "text": [
      "0 0\n",
      "1 0\n",
      "1 1\n",
      "2 0\n",
      "2 1\n",
      "2 2\n",
      "3 0\n",
      "3 1\n",
      "3 2\n",
      "3 3\n",
      "4 0\n",
      "4 1\n",
      "4 2\n",
      "4 3\n",
      "4 4\n",
      "5 0\n",
      "5 1\n",
      "5 2\n",
      "5 3\n",
      "5 4\n",
      "5 5\n",
      "6 0\n",
      "6 1\n",
      "6 2\n",
      "6 3\n",
      "6 4\n",
      "6 5\n",
      "6 6\n",
      "7 0\n",
      "7 1\n",
      "7 2\n",
      "7 3\n",
      "7 4\n",
      "7 5\n",
      "7 6\n",
      "7 7\n",
      "8 0\n",
      "8 1\n",
      "8 2\n",
      "8 3\n",
      "8 4\n",
      "8 5\n",
      "8 6\n",
      "8 7\n",
      "8 8\n",
      "9 0\n",
      "9 1\n",
      "9 2\n",
      "9 3\n",
      "9 4\n",
      "9 5\n",
      "9 6\n",
      "9 7\n",
      "9 8\n",
      "9 9\n"
     ]
    }
   ],
   "source": [
    "etas = [np.zeros((i + 1, n_tasks*100, 10)) for i in range(n_tasks)]\n",
    "subsample=1\n",
    "\n",
    "for i, test_set in enumerate(test_by_task):\n",
    "    for j in range(etas[i].shape[0]):\n",
    "        print(i,j)\n",
    "        if i == j:\n",
    "            etas[i][j] = estimate_posteriors(models[i], \n",
    "                            train_data[np.array(train_by_task[j])], \n",
    "                            fine_labels[np.array(train_by_task[j])],\n",
    "                            test_data[test_by_task[j]],\n",
    "                            in_task = True,\n",
    "                            subsample = subsample)\n",
    "        else:\n",
    "            etas[i][j] = estimate_posteriors(models[i], \n",
    "                            train_data[train_by_task[j]], \n",
    "                            fine_labels[train_by_task[j]],\n",
    "                            test_data[test_by_task[j]],\n",
    "                            in_task = False,\n",
    "                            subsample = subsample)"
   ]
  },
  {
   "cell_type": "code",
   "execution_count": 12,
   "metadata": {},
   "outputs": [],
   "source": [
    "# pickle.dump(etas, open('estimated_posteriors.pkl', 'wb'))\n",
    "# etas_ = pickle.load(open('estimated_posteriors.pkl', 'rb'))\n",
    "etas_ = etas"
   ]
  },
  {
   "cell_type": "code",
   "execution_count": 13,
   "metadata": {},
   "outputs": [],
   "source": [
    "average_etas = [np.zeros((i + 1, n_tasks*100, 10)) for i in range(n_tasks)]\n",
    "for i in range(n_tasks):\n",
    "    for j in range(average_etas[i].shape[0]):\n",
    "        average_etas[i][j] = np.mean(np.array([etas_[k][j] for k in range(j, i+1)]), axis=0)"
   ]
  },
  {
   "cell_type": "code",
   "execution_count": 14,
   "metadata": {},
   "outputs": [],
   "source": [
    "homogenized_labels = [homogenize_labels(test_labels[t]) for t in test_by_task]\n",
    "accuracies = [np.zeros(i + 1) for i in range(n_tasks)]\n",
    "for i in range(n_tasks):\n",
    "    for j in range(average_etas[i].shape[0]):\n",
    "        accuracies[i][j] = np.sum(predict(average_etas[i][j]) == homogenized_labels[j])/len(homogenized_labels[j])\n",
    "        \n",
    "new_accs = []\n",
    "for i in range(n_tasks):\n",
    "    temp = np.zeros(n_tasks - i)\n",
    "    for j in range(i, n_tasks):\n",
    "        temp[j - i] = accuracies[j][i]\n",
    "    new_accs.append(temp)"
   ]
  },
  {
   "cell_type": "code",
   "execution_count": 15,
   "metadata": {},
   "outputs": [
    {
     "data": {
      "text/plain": [
       "[array([0.378]),\n",
       " array([0.406, 0.336]),\n",
       " array([0.418, 0.336, 0.431]),\n",
       " array([0.426, 0.358, 0.425, 0.354]),\n",
       " array([0.436, 0.366, 0.442, 0.362, 0.409]),\n",
       " array([0.432, 0.373, 0.463, 0.397, 0.43 , 0.39 ]),\n",
       " array([0.443, 0.378, 0.465, 0.408, 0.412, 0.404, 0.414]),\n",
       " array([0.451, 0.388, 0.469, 0.407, 0.43 , 0.44 , 0.46 , 0.386]),\n",
       " array([0.465, 0.393, 0.455, 0.41 , 0.435, 0.449, 0.468, 0.411, 0.35 ]),\n",
       " array([0.476, 0.384, 0.464, 0.415, 0.452, 0.468, 0.464, 0.454, 0.377,\n",
       "        0.417])]"
      ]
     },
     "execution_count": 15,
     "metadata": {},
     "output_type": "execute_result"
    }
   ],
   "source": [
    "accuracies"
   ]
  },
  {
   "cell_type": "code",
   "execution_count": 19,
   "metadata": {},
   "outputs": [
    {
     "data": {
      "image/png": "[encoded data removed]",
      "text/plain": [
       "<Figure size 432x288 with 1 Axes>"
      ]
     },
     "metadata": {},
     "output_type": "display_data"
    }
   ],
   "source": [
    "import matplotlib.pyplot as plt\n",
    "import seaborn as sns\n",
    "sns.set()\n",
    "\n",
    "fig, ax = plt.subplots(1,1)\n",
    "# c = sns.color_palette('rainbow', n_colors=10)\n",
    "for i in range(n_tasks - 1):\n",
    "    ns = np.arange(i + 1, n_tasks + 1)\n",
    "    ax.plot(ns, new_accs[i], label = 'task %i'%(i + 1))\n",
    "    \n",
    "ax.scatter(10, new_accs[-1], c = 'cyan', label='task 10', s = 5)\n",
    "    \n",
    "ax.set_title('Lifelong Learning Forests on CIFAR-10x10')\n",
    "ax.set_xlabel('Number of tasks seen')\n",
    "ax.set_ylabel('Accuracy')\n",
    "ax.set_ylim(0.2 - 0.01, 0.5 + 0.01)\n",
    "box = ax.get_position()\n",
    "ax.set_position([box.x0, box.y0, box.width * 0.8, box.height])\n",
    "ax.legend(loc='center left', bbox_to_anchor=(1, 0.5))\n",
    "# ax.legend()\n",
    "\n",
    "plt.savefig('initial-cifar-100-debugged-1-subsample.pdf')"
   ]
  },
  {
   "cell_type": "code",
   "execution_count": null,
   "metadata": {},
   "outputs": [],
   "source": []
  }
 ],
 "metadata": {
  "kernelspec": {
   "display_name": "hh",
   "language": "python",
   "name": "hh"
  },
  "language_info": {
   "codemirror_mode": {
    "name": "ipython",
    "version": 3
   },
   "file_extension": ".py",
   "mimetype": "text/x-python",
   "name": "python",
   "nbconvert_exporter": "python",
   "pygments_lexer": "ipython3",
   "version": "3.6.7"
  }
 },
 "nbformat": 4,
 "nbformat_minor": 2
}
